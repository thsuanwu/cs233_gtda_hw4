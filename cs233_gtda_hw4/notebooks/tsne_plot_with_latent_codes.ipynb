{
 "cells": [
  {
   "cell_type": "code",
   "execution_count": 2,
   "metadata": {},
   "outputs": [],
   "source": [
    "import numpy as np\n",
    "import os.path as osp \n",
    "from sklearn.manifold import TSNE   # Students: you can use this to extract the TSNE\n",
    "from cs233_gtda_hw4.in_out.plotting import plot_2d_embedding_in_grid_greedy_way\n",
    "\n",
    "%load_ext autoreload\n",
    "%autoreload 2"
   ]
  },
  {
   "cell_type": "code",
   "execution_count": 3,
   "metadata": {},
   "outputs": [],
   "source": [
    "random_seed = 42 # Students: use THIS seed \n",
    "                 # IF you use sklearn's TSNE with default parameters."
   ]
  },
  {
   "cell_type": "markdown",
   "metadata": {
    "tags": []
   },
   "source": [
    "## 1. LOAD DATA, Vanilla"
   ]
  },
  {
   "cell_type": "code",
   "execution_count": 11,
   "metadata": {},
   "outputs": [],
   "source": [
    "## Load latent codes\n",
    "vanilla_ae_emb_file = '../data/out/pc_ae_latent_codes.npz'\n",
    "data = np.load(vanilla_ae_emb_file) # Students: we assume you used np.savez in the above directory\n",
    "latent_codes = data['latent_codes'] # to save the embeddings\n",
    "test_names = data['test_names']"
   ]
  },
  {
   "cell_type": "code",
   "execution_count": 12,
   "metadata": {},
   "outputs": [],
   "source": [
    "## Load images of test models (Students FIRST unzip the corresponding images.zip)\n",
    "im_files = []\n",
    "top_im_dir = '../data/images'\n",
    "for name in test_names:\n",
    "    im_file = osp.join(top_im_dir, name + '.png')\n",
    "    assert osp.exists(im_file)\n",
    "    im_files.append(im_file)"
   ]
  },
  {
   "cell_type": "code",
   "execution_count": 13,
   "metadata": {},
   "outputs": [
    {
     "data": {
      "text/plain": [
       "(150, 128)"
      ]
     },
     "execution_count": 13,
     "metadata": {},
     "output_type": "execute_result"
    }
   ],
   "source": [
    "latent_codes.shape"
   ]
  },
  {
   "cell_type": "code",
   "execution_count": 14,
   "metadata": {},
   "outputs": [],
   "source": [
    "# TODO: Students get the TSNE embedding\n",
    "# tsne_lcodes = None\n",
    "tsne_lcodes = TSNE(n_components=2).fit_transform(latent_codes)"
   ]
  },
  {
   "cell_type": "code",
   "execution_count": 15,
   "metadata": {},
   "outputs": [],
   "source": [
    "# Students feel free to play with the big_dim, small_dim to get different plots.\n",
    "plot_2d_embedding_in_grid_greedy_way(tsne_lcodes, im_files, big_dim=2000, small_dim=40, \n",
    "                                     save_file='../data/out/vanilla_ae_test_pc_tsne.png', \n",
    "                                     transparent_pngs=True);"
   ]
  },
  {
   "cell_type": "markdown",
   "metadata": {
    "tags": []
   },
   "source": [
    "## 2. LOAD DATA, part aware"
   ]
  },
  {
   "cell_type": "code",
   "execution_count": 4,
   "metadata": {},
   "outputs": [],
   "source": [
    "## Load latent codes\n",
    "vanilla_ae_emb_file = '../data/out/part_pc_ae_latent_codes.npz'\n",
    "data = np.load(vanilla_ae_emb_file) # Students: we assume you used np.savez in the above directory\n",
    "latent_codes = data['latent_codes'] # to save the embeddings\n",
    "test_names = data['test_names']"
   ]
  },
  {
   "cell_type": "code",
   "execution_count": 8,
   "metadata": {},
   "outputs": [],
   "source": [
    "## Load images of test models (Students FIRST unzip the corresponding images.zip)\n",
    "im_files = []\n",
    "top_im_dir = '../data/images'\n",
    "for name in test_names:\n",
    "    im_file = osp.join(top_im_dir, name + '.png')\n",
    "    assert osp.exists(im_file)\n",
    "    im_files.append(im_file)"
   ]
  },
  {
   "cell_type": "code",
   "execution_count": 9,
   "metadata": {},
   "outputs": [
    {
     "data": {
      "text/plain": [
       "(150, 128)"
      ]
     },
     "execution_count": 9,
     "metadata": {},
     "output_type": "execute_result"
    }
   ],
   "source": [
    "latent_codes.shape"
   ]
  },
  {
   "cell_type": "code",
   "execution_count": 10,
   "metadata": {},
   "outputs": [],
   "source": [
    "# TODO: Students get the TSNE embedding\n",
    "# tsne_lcodes = None\n",
    "tsne_lcodes = TSNE(n_components=2).fit_transform(latent_codes)"
   ]
  },
  {
   "cell_type": "code",
   "execution_count": 11,
   "metadata": {},
   "outputs": [],
   "source": [
    "# Students feel free to play with the big_dim, small_dim to get different plots.\n",
    "plot_2d_embedding_in_grid_greedy_way(tsne_lcodes, im_files, big_dim=2000, small_dim=40, \n",
    "                                     save_file='../data/out/part_ae_test_pc_tsne.png', \n",
    "                                     transparent_pngs=True);"
   ]
  }
 ],
 "metadata": {
  "kernelspec": {
   "display_name": "Python 3",
   "language": "python",
   "name": "python3"
  },
  "language_info": {
   "codemirror_mode": {
    "name": "ipython",
    "version": 3
   },
   "file_extension": ".py",
   "mimetype": "text/x-python",
   "name": "python",
   "nbconvert_exporter": "python",
   "pygments_lexer": "ipython3",
   "version": "3.6.9"
  }
 },
 "nbformat": 4,
 "nbformat_minor": 4
}
