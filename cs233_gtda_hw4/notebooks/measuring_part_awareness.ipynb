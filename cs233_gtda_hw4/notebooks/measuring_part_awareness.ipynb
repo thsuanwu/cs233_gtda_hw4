{
 "cells": [
  {
   "cell_type": "code",
   "execution_count": null,
   "metadata": {},
   "outputs": [],
   "source": [
    "import numpy as np\n",
    "import os.path as osp\n",
    "from collections import defaultdict\n",
    "from sklearn.neighbors import NearestNeighbors  # Students: you can use this implementation to find the \n",
    "                                                # Nearest-Neigbors"
   ]
  },
  {
   "cell_type": "code",
   "execution_count": null,
   "metadata": {},
   "outputs": [],
   "source": [
    "# Students: Default location of saved latent codes per last cell of main.ipynb, change appropriately if\n",
    "# you saved them in another way.\n",
    "vanilla_ae_emb_file = '../data/out/pc_ae_latent_codes.npz'\n",
    "part_ae_emb_file = '../data/out/part_pc_ae_latent_codes.npz'"
   ]
  },
  {
   "cell_type": "code",
   "execution_count": null,
   "metadata": {},
   "outputs": [],
   "source": [
    "# Load golden distances (pairwise matrix, or corresponding model/part names in golden_names)\n",
    "golden_part_dist_file = '../data/golden_dists.npz'\n",
    "golden_data = np.load(golden_part_dist_file, allow_pickle=True)\n",
    "golden_part_dist = golden_data['golden_part_dist']\n",
    "golden_names = golden_data['golden_names']\n",
    "print(len(golden_names))  # models-name/part combinations\n",
    "print(golden_names[0])"
   ]
  },
  {
   "cell_type": "code",
   "execution_count": null,
   "metadata": {},
   "outputs": [],
   "source": [
    "# To load vanilla-AE-embeddings (if False will open those of the 2-branch AE).\n",
    "vanilla = True # or False"
   ]
  },
  {
   "cell_type": "code",
   "execution_count": null,
   "metadata": {},
   "outputs": [],
   "source": [
    "# Load/organize golden part-aware distances.\n",
    "sn_id_to_parts = defaultdict(list)\n",
    "id_to_part_loc = dict()\n",
    "\n",
    "for i, name in enumerate(golden_names):\n",
    "    # Extract shape-net model ids of golden, map them to their parts.\n",
    "    sn_id, _, part_id, _, _ = name.split('_')\n",
    "    sn_id_to_parts[sn_id].append(part_id)\n",
    "    \n",
    "    # Map shape-net model id and part_id to location in distance matrix, (the order is the same).\n",
    "    id_to_part_loc[(sn_id, part_id)] = i"
   ]
  },
  {
   "cell_type": "code",
   "execution_count": null,
   "metadata": {},
   "outputs": [],
   "source": [
    "if vanilla:\n",
    "    in_d = np.load(vanilla_ae_emb_file)    # Students: assuming you used the numpy.savez\n",
    "else:\n",
    "    in_d = np.load(part_ae_emb_file)\n",
    "        \n",
    "latent_codes = in_d['latent_codes']\n",
    "test_names = in_d['test_names']"
   ]
  },
  {
   "cell_type": "code",
   "execution_count": null,
   "metadata": {},
   "outputs": [],
   "source": [
    "# TODO: Use golden distances and matchings to solve question (g)\n",
    "\n",
    "for i, sn_name in enumerate(test_names):\n",
    "    parts_of_model = set(sn_id_to_parts[sn_name])\n",
    "    matched_neighbor = None # Students find the model's name of the Nearest-Neighbor\n",
    "    parts_of_neighbor = set(sn_id_to_parts[matched_neighbor])\n",
    "    \n",
    "    # compute the requested distances.\n",
    "    # Use id_to_part_loc for each model/part combination\n",
    "    "
   ]
  }
 ],
 "metadata": {
  "kernelspec": {
   "display_name": "Python 3",
   "language": "python",
   "name": "python3"
  },
  "language_info": {
   "codemirror_mode": {
    "name": "ipython",
    "version": 3
   },
   "file_extension": ".py",
   "mimetype": "text/x-python",
   "name": "python",
   "nbconvert_exporter": "python",
   "pygments_lexer": "ipython3",
   "version": "3.6.9"
  }
 },
 "nbformat": 4,
 "nbformat_minor": 4
}
